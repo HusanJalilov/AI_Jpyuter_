{
  "nbformat": 4,
  "nbformat_minor": 5,
  "metadata": {
    "kernelspec": {
      "display_name": "Python 3 (ipykernel)",
      "language": "python",
      "name": "python3"
    },
    "language_info": {
      "codemirror_mode": {
        "name": "ipython",
        "version": 3
      },
      "file_extension": ".py",
      "mimetype": "text/x-python",
      "name": "python",
      "nbconvert_exporter": "python",
      "pygments_lexer": "ipython3",
      "version": "3.9.7"
    },
    "colab": {
      "name": "num_py_solishtirmasi.ipynb",
      "provenance": [],
      "include_colab_link": true
    }
  },
  "cells": [
    {
      "cell_type": "markdown",
      "metadata": {
        "id": "view-in-github",
        "colab_type": "text"
      },
      "source": [
        "<a href=\"https://colab.research.google.com/github/HusanJalilov/AI_Jpyuter_/blob/main/num_py_solishtirmasi.ipynb\" target=\"_parent\"><img src=\"https://colab.research.google.com/assets/colab-badge.svg\" alt=\"Open In Colab\"/></a>"
      ]
    },
    {
      "cell_type": "code",
      "metadata": {
        "id": "40f0fef3"
      },
      "source": [
        "import numpy as np"
      ],
      "id": "40f0fef3",
      "execution_count": null,
      "outputs": []
    },
    {
      "cell_type": "code",
      "metadata": {
        "id": "3fb915b8"
      },
      "source": [
        "my_list=list(range(100000))  #normal\n",
        "my_numpy=np.array(range(1000000))  #vektorlashgan"
      ],
      "id": "3fb915b8",
      "execution_count": null,
      "outputs": []
    },
    {
      "cell_type": "code",
      "metadata": {
        "id": "681559b7",
        "outputId": "65005047-0340-47f5-8e6f-47dcf2f1f3e5"
      },
      "source": [
        "%time for _ in range(10): [x*2 for x in my_list] # Normal hisoblashga ketgan vaqt"
      ],
      "id": "681559b7",
      "execution_count": null,
      "outputs": [
        {
          "name": "stdout",
          "output_type": "stream",
          "text": [
            "Wall time: 109 ms\n"
          ]
        }
      ]
    },
    {
      "cell_type": "code",
      "metadata": {
        "id": "336f604c",
        "outputId": "513c52b9-be16-4818-db19-b41f6628b076"
      },
      "source": [
        "%time for _ in range(10): my_numpy*2 #  vektorlash hisoblashiga ketgan vaqt"
      ],
      "id": "336f604c",
      "execution_count": null,
      "outputs": [
        {
          "name": "stdout",
          "output_type": "stream",
          "text": [
            "Wall time: 29 ms\n"
          ]
        }
      ]
    },
    {
      "cell_type": "code",
      "metadata": {
        "id": "2e5d418a",
        "outputId": "12350046-565f-4f44-c0f1-99de3c79decc"
      },
      "source": [
        "109/29"
      ],
      "id": "2e5d418a",
      "execution_count": null,
      "outputs": [
        {
          "data": {
            "text/plain": [
              "3.7586206896551726"
            ]
          },
          "execution_count": 5,
          "metadata": {},
          "output_type": "execute_result"
        }
      ]
    }
  ]
}