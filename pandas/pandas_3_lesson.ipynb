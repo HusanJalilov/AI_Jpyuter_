{
  "nbformat": 4,
  "nbformat_minor": 0,
  "metadata": {
    "colab": {
      "name": "pandas 3 lesson.ipynb",
      "provenance": [],
      "authorship_tag": "ABX9TyOrL2qpS1zmsJiC1mGexExW",
      "include_colab_link": true
    },
    "kernelspec": {
      "name": "python3",
      "display_name": "Python 3"
    },
    "language_info": {
      "name": "python"
    }
  },
  "cells": [
    {
      "cell_type": "markdown",
      "metadata": {
        "id": "view-in-github",
        "colab_type": "text"
      },
      "source": [
        "<a href=\"https://colab.research.google.com/github/HusanJalilov/AI_Jpyuter_/blob/main/pandas/pandas_3_lesson.ipynb\" target=\"_parent\"><img src=\"https://colab.research.google.com/assets/colab-badge.svg\" alt=\"Open In Colab\"/></a>"
      ]
    },
    {
      "cell_type": "code",
      "metadata": {
        "id": "8gU7CmRVvOyV"
      },
      "source": [
        "import pandas as pd\n",
        "from pandas import Series"
      ],
      "execution_count": 1,
      "outputs": []
    },
    {
      "cell_type": "code",
      "metadata": {
        "colab": {
          "base_uri": "https://localhost:8080/"
        },
        "id": "Mf3MJVPSvVIc",
        "outputId": "a176bf1a-17cc-45ff-f117-b88a7f1a4530"
      },
      "source": [
        "uzmu={'Rektor':'Olim to\\'raqulov','Dekan':'Ali boboyev','Zam':'Abutolib','Kafedra':'Oybek qayumov','Tyutor':'Aziz aka'}\n",
        "uzmu"
      ],
      "execution_count": 2,
      "outputs": [
        {
          "output_type": "execute_result",
          "data": {
            "text/plain": [
              "{'Dekan': 'Ali boboyev',\n",
              " 'Kafedra': 'Oybek qayumov',\n",
              " 'Rektor': \"Olim to'raqulov\",\n",
              " 'Tyutor': 'Aziz aka',\n",
              " 'Zam': 'Abutolib'}"
            ]
          },
          "metadata": {},
          "execution_count": 2
        }
      ]
    },
    {
      "cell_type": "code",
      "metadata": {
        "colab": {
          "base_uri": "https://localhost:8080/"
        },
        "id": "FzHYIzXPv27n",
        "outputId": "b075bc56-51ca-44c6-8ebb-91013333b516"
      },
      "source": [
        "obj1=Series(uzmu)\n",
        "obj1"
      ],
      "execution_count": 4,
      "outputs": [
        {
          "output_type": "execute_result",
          "data": {
            "text/plain": [
              "Rektor     Olim to'raqulov\n",
              "Dekan          Ali boboyev\n",
              "Zam               Abutolib\n",
              "Kafedra      Oybek qayumov\n",
              "Tyutor            Aziz aka\n",
              "dtype: object"
            ]
          },
          "metadata": {},
          "execution_count": 4
        }
      ]
    },
    {
      "cell_type": "code",
      "metadata": {
        "colab": {
          "base_uri": "https://localhost:8080/"
        },
        "id": "s8qs_Dtlv-U_",
        "outputId": "752cabf1-2c0a-466d-b27e-9fe4054ba4a7"
      },
      "source": [
        "obj1.index.name='Lavozimlar'\n",
        "obj1.name='Masul Shaxslar'\n",
        "obj1"
      ],
      "execution_count": 10,
      "outputs": [
        {
          "output_type": "execute_result",
          "data": {
            "text/plain": [
              "Lavozimlar\n",
              "Rektor     Olim to'raqulov\n",
              "Dekan          Ali boboyev\n",
              "Zam               Abutolib\n",
              "Kafedra      Oybek qayumov\n",
              "Tyutor            Aziz aka\n",
              "Name: Masul Shaxslar, dtype: object"
            ]
          },
          "metadata": {},
          "execution_count": 10
        }
      ]
    },
    {
      "cell_type": "code",
      "metadata": {
        "id": "TWF-lUzhwIgl"
      },
      "source": [
        ""
      ],
      "execution_count": null,
      "outputs": []
    },
    {
      "cell_type": "code",
      "metadata": {
        "colab": {
          "base_uri": "https://localhost:8080/"
        },
        "id": "xnSvj-ISw5GJ",
        "outputId": "2c16e654-2b03-4468-eb8a-3570f40ea8ce"
      },
      "source": [
        "obj1.values\n"
      ],
      "execution_count": 12,
      "outputs": [
        {
          "output_type": "execute_result",
          "data": {
            "text/plain": [
              "array([\"Olim to'raqulov\", 'Ali boboyev', 'Abutolib', 'Oybek qayumov',\n",
              "       'Aziz aka'], dtype=object)"
            ]
          },
          "metadata": {},
          "execution_count": 12
        }
      ]
    },
    {
      "cell_type": "code",
      "metadata": {
        "colab": {
          "base_uri": "https://localhost:8080/",
          "height": 35
        },
        "id": "xPKXgmIxw7uI",
        "outputId": "0c35e1ab-fd8b-4fe4-b132-4413234c2f1a"
      },
      "source": [
        "obj1.loc['Dekan']"
      ],
      "execution_count": 13,
      "outputs": [
        {
          "output_type": "execute_result",
          "data": {
            "application/vnd.google.colaboratory.intrinsic+json": {
              "type": "string"
            },
            "text/plain": [
              "'Ali boboyev'"
            ]
          },
          "metadata": {},
          "execution_count": 13
        }
      ]
    },
    {
      "cell_type": "code",
      "metadata": {
        "colab": {
          "base_uri": "https://localhost:8080/"
        },
        "id": "zxCsh8tvxK6J",
        "outputId": "fba3e920-7a1e-4b65-9ea4-a4e071c57370"
      },
      "source": [
        "obj1.index\n"
      ],
      "execution_count": 16,
      "outputs": [
        {
          "output_type": "execute_result",
          "data": {
            "text/plain": [
              "Index(['Rektor', 'Dekan', 'Zam', 'Kafedra', 'Tyutor'], dtype='object', name='Lavozimlar')"
            ]
          },
          "metadata": {},
          "execution_count": 16
        }
      ]
    },
    {
      "cell_type": "code",
      "metadata": {
        "id": "3CLaMKa8yQ7k"
      },
      "source": [
        ""
      ],
      "execution_count": null,
      "outputs": []
    }
  ]
}