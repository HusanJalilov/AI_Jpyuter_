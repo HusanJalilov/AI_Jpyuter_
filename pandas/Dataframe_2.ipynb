{
  "nbformat": 4,
  "nbformat_minor": 0,
  "metadata": {
    "colab": {
      "name": "Dataframe 2.ipynb",
      "provenance": [],
      "authorship_tag": "ABX9TyMDn0Xto+cOT8FQ94APDgKv",
      "include_colab_link": true
    },
    "kernelspec": {
      "name": "python3",
      "display_name": "Python 3"
    },
    "language_info": {
      "name": "python"
    }
  },
  "cells": [
    {
      "cell_type": "markdown",
      "metadata": {
        "id": "view-in-github",
        "colab_type": "text"
      },
      "source": [
        "<a href=\"https://colab.research.google.com/github/HusanJalilov/AI_Jpyuter_/blob/main/pandas/Dataframe_2.ipynb\" target=\"_parent\"><img src=\"https://colab.research.google.com/assets/colab-badge.svg\" alt=\"Open In Colab\"/></a>"
      ]
    },
    {
      "cell_type": "code",
      "metadata": {
        "id": "SBgZqzeWCd95"
      },
      "source": [
        "import pandas as pd\n",
        "user={\n",
        "    \"Username\":{\"Husan\":\"Jalilov\",\"Lazizaxon\":\"Anvarova\",\"Shox\":\"Burxonov\"},\n",
        "    \"Email\":{\"Husan\":\"husan@gmil.com\",\"Lazizaxon\":\"laziza@gmail.com\",\"Shox\":\"shox@gmil.com\"}\n",
        "    }"
      ],
      "execution_count": 14,
      "outputs": []
    },
    {
      "cell_type": "code",
      "metadata": {
        "id": "nlQFZiSPFDxm"
      },
      "source": [
        "    df=pd.DataFrame(user)"
      ],
      "execution_count": 15,
      "outputs": []
    },
    {
      "cell_type": "code",
      "metadata": {
        "colab": {
          "base_uri": "https://localhost:8080/",
          "height": 143
        },
        "id": "nALCaUx1GfpA",
        "outputId": "603826f9-2610-4860-a987-0c6c6940e7e8"
      },
      "source": [
        "df"
      ],
      "execution_count": 16,
      "outputs": [
        {
          "output_type": "execute_result",
          "data": {
            "text/html": [
              "<div>\n",
              "<style scoped>\n",
              "    .dataframe tbody tr th:only-of-type {\n",
              "        vertical-align: middle;\n",
              "    }\n",
              "\n",
              "    .dataframe tbody tr th {\n",
              "        vertical-align: top;\n",
              "    }\n",
              "\n",
              "    .dataframe thead th {\n",
              "        text-align: right;\n",
              "    }\n",
              "</style>\n",
              "<table border=\"1\" class=\"dataframe\">\n",
              "  <thead>\n",
              "    <tr style=\"text-align: right;\">\n",
              "      <th></th>\n",
              "      <th>Username</th>\n",
              "      <th>Email</th>\n",
              "    </tr>\n",
              "  </thead>\n",
              "  <tbody>\n",
              "    <tr>\n",
              "      <th>Husan</th>\n",
              "      <td>Jalilov</td>\n",
              "      <td>husan@gmil.com</td>\n",
              "    </tr>\n",
              "    <tr>\n",
              "      <th>Lazizaxon</th>\n",
              "      <td>Anvarova</td>\n",
              "      <td>laziza@gmail.com</td>\n",
              "    </tr>\n",
              "    <tr>\n",
              "      <th>Shox</th>\n",
              "      <td>Burxonov</td>\n",
              "      <td>shox@gmil.com</td>\n",
              "    </tr>\n",
              "  </tbody>\n",
              "</table>\n",
              "</div>"
            ],
            "text/plain": [
              "           Username             Email\n",
              "Husan       Jalilov    husan@gmil.com\n",
              "Lazizaxon  Anvarova  laziza@gmail.com\n",
              "Shox       Burxonov     shox@gmil.com"
            ]
          },
          "metadata": {},
          "execution_count": 16
        }
      ]
    },
    {
      "cell_type": "code",
      "metadata": {
        "colab": {
          "base_uri": "https://localhost:8080/"
        },
        "id": "eTa6ppkRGgmf",
        "outputId": "e4bfbc83-2ed6-4ab6-9caa-eb5a72b81afd"
      },
      "source": [
        "df.index"
      ],
      "execution_count": 17,
      "outputs": [
        {
          "output_type": "execute_result",
          "data": {
            "text/plain": [
              "Index(['Husan', 'Lazizaxon', 'Shox'], dtype='object')"
            ]
          },
          "metadata": {},
          "execution_count": 17
        }
      ]
    },
    {
      "cell_type": "code",
      "metadata": {
        "colab": {
          "base_uri": "https://localhost:8080/"
        },
        "id": "VIzlXjmGG6XY",
        "outputId": "712eed94-97a0-4480-a9ca-1e0e6caf8ac8"
      },
      "source": [
        "df.columns"
      ],
      "execution_count": 19,
      "outputs": [
        {
          "output_type": "execute_result",
          "data": {
            "text/plain": [
              "Index(['Username', 'Email'], dtype='object')"
            ]
          },
          "metadata": {},
          "execution_count": 19
        }
      ]
    },
    {
      "cell_type": "code",
      "metadata": {
        "colab": {
          "base_uri": "https://localhost:8080/"
        },
        "id": "vvtI7PK5G9EJ",
        "outputId": "dd2cdc08-a233-4e20-fe6b-2ce76f39275b"
      },
      "source": [
        "'Email' in df.columns"
      ],
      "execution_count": 20,
      "outputs": [
        {
          "output_type": "execute_result",
          "data": {
            "text/plain": [
              "True"
            ]
          },
          "metadata": {},
          "execution_count": 20
        }
      ]
    },
    {
      "cell_type": "code",
      "metadata": {
        "colab": {
          "base_uri": "https://localhost:8080/",
          "height": 143
        },
        "id": "q7qXoyBcH73L",
        "outputId": "9fa30b9d-51db-4282-95f9-85dc2fb64855"
      },
      "source": [
        "df"
      ],
      "execution_count": 23,
      "outputs": [
        {
          "output_type": "execute_result",
          "data": {
            "text/html": [
              "<div>\n",
              "<style scoped>\n",
              "    .dataframe tbody tr th:only-of-type {\n",
              "        vertical-align: middle;\n",
              "    }\n",
              "\n",
              "    .dataframe tbody tr th {\n",
              "        vertical-align: top;\n",
              "    }\n",
              "\n",
              "    .dataframe thead th {\n",
              "        text-align: right;\n",
              "    }\n",
              "</style>\n",
              "<table border=\"1\" class=\"dataframe\">\n",
              "  <thead>\n",
              "    <tr style=\"text-align: right;\">\n",
              "      <th></th>\n",
              "      <th>Username</th>\n",
              "      <th>Email</th>\n",
              "    </tr>\n",
              "  </thead>\n",
              "  <tbody>\n",
              "    <tr>\n",
              "      <th>Husan</th>\n",
              "      <td>Jalilov</td>\n",
              "      <td>husan@gmil.com</td>\n",
              "    </tr>\n",
              "    <tr>\n",
              "      <th>Lazizaxon</th>\n",
              "      <td>Anvarova</td>\n",
              "      <td>laziza@gmail.com</td>\n",
              "    </tr>\n",
              "    <tr>\n",
              "      <th>Shox</th>\n",
              "      <td>Burxonov</td>\n",
              "      <td>shox@gmil.com</td>\n",
              "    </tr>\n",
              "  </tbody>\n",
              "</table>\n",
              "</div>"
            ],
            "text/plain": [
              "           Username             Email\n",
              "Husan       Jalilov    husan@gmil.com\n",
              "Lazizaxon  Anvarova  laziza@gmail.com\n",
              "Shox       Burxonov     shox@gmil.com"
            ]
          },
          "metadata": {},
          "execution_count": 23
        }
      ]
    },
    {
      "cell_type": "code",
      "metadata": {
        "id": "TunmBrOnIFsI"
      },
      "source": [
        "user2={\n",
        "    \"Username\":{\"Husan\":\"Dasturchi\",\"Nilu\":\"Nilushka\"},\n",
        "    \"Email\":{\"Husan\":\"GIT@gmil.com\",\"Nilu\":\"Nilu@gmil.com\"}\n",
        "}\n",
        "df2=pd.DataFrame(user2)"
      ],
      "execution_count": 24,
      "outputs": []
    },
    {
      "cell_type": "code",
      "metadata": {
        "colab": {
          "base_uri": "https://localhost:8080/",
          "height": 112
        },
        "id": "rS_wRuxFIvof",
        "outputId": "39dd3527-a375-48f7-8a00-4f554beebcd6"
      },
      "source": [
        "df2"
      ],
      "execution_count": 26,
      "outputs": [
        {
          "output_type": "execute_result",
          "data": {
            "text/html": [
              "<div>\n",
              "<style scoped>\n",
              "    .dataframe tbody tr th:only-of-type {\n",
              "        vertical-align: middle;\n",
              "    }\n",
              "\n",
              "    .dataframe tbody tr th {\n",
              "        vertical-align: top;\n",
              "    }\n",
              "\n",
              "    .dataframe thead th {\n",
              "        text-align: right;\n",
              "    }\n",
              "</style>\n",
              "<table border=\"1\" class=\"dataframe\">\n",
              "  <thead>\n",
              "    <tr style=\"text-align: right;\">\n",
              "      <th></th>\n",
              "      <th>Username</th>\n",
              "      <th>Email</th>\n",
              "    </tr>\n",
              "  </thead>\n",
              "  <tbody>\n",
              "    <tr>\n",
              "      <th>Husan</th>\n",
              "      <td>Dasturchi</td>\n",
              "      <td>GIT@gmil.com</td>\n",
              "    </tr>\n",
              "    <tr>\n",
              "      <th>Nilu</th>\n",
              "      <td>Nilushka</td>\n",
              "      <td>Nilu@gmil.com</td>\n",
              "    </tr>\n",
              "  </tbody>\n",
              "</table>\n",
              "</div>"
            ],
            "text/plain": [
              "        Username          Email\n",
              "Husan  Dasturchi   GIT@gmil.com\n",
              "Nilu    Nilushka  Nilu@gmil.com"
            ]
          },
          "metadata": {},
          "execution_count": 26
        }
      ]
    },
    {
      "cell_type": "code",
      "metadata": {
        "colab": {
          "base_uri": "https://localhost:8080/",
          "height": 143
        },
        "id": "-Aa3ZF1cIxBq",
        "outputId": "0f39d612-32e9-4b9e-876f-eaf72f47c03c"
      },
      "source": [
        "df"
      ],
      "execution_count": 28,
      "outputs": [
        {
          "output_type": "execute_result",
          "data": {
            "text/html": [
              "<div>\n",
              "<style scoped>\n",
              "    .dataframe tbody tr th:only-of-type {\n",
              "        vertical-align: middle;\n",
              "    }\n",
              "\n",
              "    .dataframe tbody tr th {\n",
              "        vertical-align: top;\n",
              "    }\n",
              "\n",
              "    .dataframe thead th {\n",
              "        text-align: right;\n",
              "    }\n",
              "</style>\n",
              "<table border=\"1\" class=\"dataframe\">\n",
              "  <thead>\n",
              "    <tr style=\"text-align: right;\">\n",
              "      <th></th>\n",
              "      <th>Username</th>\n",
              "      <th>Email</th>\n",
              "    </tr>\n",
              "  </thead>\n",
              "  <tbody>\n",
              "    <tr>\n",
              "      <th>Husan</th>\n",
              "      <td>Jalilov</td>\n",
              "      <td>husan@gmil.com</td>\n",
              "    </tr>\n",
              "    <tr>\n",
              "      <th>Lazizaxon</th>\n",
              "      <td>Anvarova</td>\n",
              "      <td>laziza@gmail.com</td>\n",
              "    </tr>\n",
              "    <tr>\n",
              "      <th>Shox</th>\n",
              "      <td>Burxonov</td>\n",
              "      <td>shox@gmil.com</td>\n",
              "    </tr>\n",
              "  </tbody>\n",
              "</table>\n",
              "</div>"
            ],
            "text/plain": [
              "           Username             Email\n",
              "Husan       Jalilov    husan@gmil.com\n",
              "Lazizaxon  Anvarova  laziza@gmail.com\n",
              "Shox       Burxonov     shox@gmil.com"
            ]
          },
          "metadata": {},
          "execution_count": 28
        }
      ]
    },
    {
      "cell_type": "code",
      "metadata": {
        "id": "DFIETKDiI0Fd"
      },
      "source": [
        "df3=df.append(df2)"
      ],
      "execution_count": 30,
      "outputs": []
    },
    {
      "cell_type": "code",
      "metadata": {
        "colab": {
          "base_uri": "https://localhost:8080/",
          "height": 206
        },
        "id": "YeQ36tzRJBjm",
        "outputId": "19a68117-a140-40b4-ce51-cda77c15e12d"
      },
      "source": [
        "df3"
      ],
      "execution_count": 31,
      "outputs": [
        {
          "output_type": "execute_result",
          "data": {
            "text/html": [
              "<div>\n",
              "<style scoped>\n",
              "    .dataframe tbody tr th:only-of-type {\n",
              "        vertical-align: middle;\n",
              "    }\n",
              "\n",
              "    .dataframe tbody tr th {\n",
              "        vertical-align: top;\n",
              "    }\n",
              "\n",
              "    .dataframe thead th {\n",
              "        text-align: right;\n",
              "    }\n",
              "</style>\n",
              "<table border=\"1\" class=\"dataframe\">\n",
              "  <thead>\n",
              "    <tr style=\"text-align: right;\">\n",
              "      <th></th>\n",
              "      <th>Username</th>\n",
              "      <th>Email</th>\n",
              "    </tr>\n",
              "  </thead>\n",
              "  <tbody>\n",
              "    <tr>\n",
              "      <th>Husan</th>\n",
              "      <td>Jalilov</td>\n",
              "      <td>husan@gmil.com</td>\n",
              "    </tr>\n",
              "    <tr>\n",
              "      <th>Lazizaxon</th>\n",
              "      <td>Anvarova</td>\n",
              "      <td>laziza@gmail.com</td>\n",
              "    </tr>\n",
              "    <tr>\n",
              "      <th>Shox</th>\n",
              "      <td>Burxonov</td>\n",
              "      <td>shox@gmil.com</td>\n",
              "    </tr>\n",
              "    <tr>\n",
              "      <th>Husan</th>\n",
              "      <td>Dasturchi</td>\n",
              "      <td>GIT@gmil.com</td>\n",
              "    </tr>\n",
              "    <tr>\n",
              "      <th>Nilu</th>\n",
              "      <td>Nilushka</td>\n",
              "      <td>Nilu@gmil.com</td>\n",
              "    </tr>\n",
              "  </tbody>\n",
              "</table>\n",
              "</div>"
            ],
            "text/plain": [
              "            Username             Email\n",
              "Husan        Jalilov    husan@gmil.com\n",
              "Lazizaxon   Anvarova  laziza@gmail.com\n",
              "Shox        Burxonov     shox@gmil.com\n",
              "Husan      Dasturchi      GIT@gmil.com\n",
              "Nilu        Nilushka     Nilu@gmil.com"
            ]
          },
          "metadata": {},
          "execution_count": 31
        }
      ]
    },
    {
      "cell_type": "code",
      "metadata": {
        "id": "xa4DJlKeJGCV"
      },
      "source": [
        "df4=df3.index"
      ],
      "execution_count": 36,
      "outputs": []
    },
    {
      "cell_type": "code",
      "metadata": {
        "colab": {
          "base_uri": "https://localhost:8080/"
        },
        "id": "VpGCPCpcJJpM",
        "outputId": "8cbdeac4-aeee-438c-b1da-c411d26c3915"
      },
      "source": [
        "'Husan' in df4"
      ],
      "execution_count": 37,
      "outputs": [
        {
          "output_type": "execute_result",
          "data": {
            "text/plain": [
              "True"
            ]
          },
          "metadata": {},
          "execution_count": 37
        }
      ]
    },
    {
      "cell_type": "code",
      "metadata": {
        "id": "RqYOEqjhJcjs"
      },
      "source": [
        "new=pd.Index(['Husan','Olim','Jasur'])"
      ],
      "execution_count": 41,
      "outputs": []
    },
    {
      "cell_type": "code",
      "metadata": {
        "colab": {
          "base_uri": "https://localhost:8080/"
        },
        "id": "O8g_JFzqKEg-",
        "outputId": "104e304d-df42-4ba2-e0f8-04ea0b8ae111"
      },
      "source": [
        "new.isin(df3.index)"
      ],
      "execution_count": 42,
      "outputs": [
        {
          "output_type": "execute_result",
          "data": {
            "text/plain": [
              "array([ True, False, False])"
            ]
          },
          "metadata": {},
          "execution_count": 42
        }
      ]
    },
    {
      "cell_type": "code",
      "metadata": {
        "colab": {
          "base_uri": "https://localhost:8080/"
        },
        "id": "GgIgyrPjKPhC",
        "outputId": "ccbb293b-7ec8-444f-d317-7a151157f0a4"
      },
      "source": [
        "df3.index.difference(new)"
      ],
      "execution_count": 43,
      "outputs": [
        {
          "output_type": "execute_result",
          "data": {
            "text/plain": [
              "Index(['Lazizaxon', 'Nilu', 'Shox'], dtype='object')"
            ]
          },
          "metadata": {},
          "execution_count": 43
        }
      ]
    },
    {
      "cell_type": "code",
      "metadata": {
        "colab": {
          "base_uri": "https://localhost:8080/",
          "height": 206
        },
        "id": "3bMiBIIbLxcf",
        "outputId": "7f32c4c9-6ae7-49e6-ba05-16c52d488edc"
      },
      "source": [
        "df3"
      ],
      "execution_count": 44,
      "outputs": [
        {
          "output_type": "execute_result",
          "data": {
            "text/html": [
              "<div>\n",
              "<style scoped>\n",
              "    .dataframe tbody tr th:only-of-type {\n",
              "        vertical-align: middle;\n",
              "    }\n",
              "\n",
              "    .dataframe tbody tr th {\n",
              "        vertical-align: top;\n",
              "    }\n",
              "\n",
              "    .dataframe thead th {\n",
              "        text-align: right;\n",
              "    }\n",
              "</style>\n",
              "<table border=\"1\" class=\"dataframe\">\n",
              "  <thead>\n",
              "    <tr style=\"text-align: right;\">\n",
              "      <th></th>\n",
              "      <th>Username</th>\n",
              "      <th>Email</th>\n",
              "    </tr>\n",
              "  </thead>\n",
              "  <tbody>\n",
              "    <tr>\n",
              "      <th>Husan</th>\n",
              "      <td>Jalilov</td>\n",
              "      <td>husan@gmil.com</td>\n",
              "    </tr>\n",
              "    <tr>\n",
              "      <th>Lazizaxon</th>\n",
              "      <td>Anvarova</td>\n",
              "      <td>laziza@gmail.com</td>\n",
              "    </tr>\n",
              "    <tr>\n",
              "      <th>Shox</th>\n",
              "      <td>Burxonov</td>\n",
              "      <td>shox@gmil.com</td>\n",
              "    </tr>\n",
              "    <tr>\n",
              "      <th>Husan</th>\n",
              "      <td>Dasturchi</td>\n",
              "      <td>GIT@gmil.com</td>\n",
              "    </tr>\n",
              "    <tr>\n",
              "      <th>Nilu</th>\n",
              "      <td>Nilushka</td>\n",
              "      <td>Nilu@gmil.com</td>\n",
              "    </tr>\n",
              "  </tbody>\n",
              "</table>\n",
              "</div>"
            ],
            "text/plain": [
              "            Username             Email\n",
              "Husan        Jalilov    husan@gmil.com\n",
              "Lazizaxon   Anvarova  laziza@gmail.com\n",
              "Shox        Burxonov     shox@gmil.com\n",
              "Husan      Dasturchi      GIT@gmil.com\n",
              "Nilu        Nilushka     Nilu@gmil.com"
            ]
          },
          "metadata": {},
          "execution_count": 44
        }
      ]
    },
    {
      "cell_type": "code",
      "metadata": {
        "colab": {
          "base_uri": "https://localhost:8080/"
        },
        "id": "qS4Qa2T1PPm2",
        "outputId": "8c7689cf-3f9f-4eab-89cb-04b150931734"
      },
      "source": [
        "df.index.delete(0)"
      ],
      "execution_count": 47,
      "outputs": [
        {
          "output_type": "execute_result",
          "data": {
            "text/plain": [
              "Index(['Lazizaxon', 'Shox'], dtype='object')"
            ]
          },
          "metadata": {},
          "execution_count": 47
        }
      ]
    },
    {
      "cell_type": "code",
      "metadata": {
        "colab": {
          "base_uri": "https://localhost:8080/",
          "height": 143
        },
        "id": "p7lT36lRPUGL",
        "outputId": "1d57d366-82d0-4c3b-85a8-bd35fecbda68"
      },
      "source": [
        "df"
      ],
      "execution_count": 48,
      "outputs": [
        {
          "output_type": "execute_result",
          "data": {
            "text/html": [
              "<div>\n",
              "<style scoped>\n",
              "    .dataframe tbody tr th:only-of-type {\n",
              "        vertical-align: middle;\n",
              "    }\n",
              "\n",
              "    .dataframe tbody tr th {\n",
              "        vertical-align: top;\n",
              "    }\n",
              "\n",
              "    .dataframe thead th {\n",
              "        text-align: right;\n",
              "    }\n",
              "</style>\n",
              "<table border=\"1\" class=\"dataframe\">\n",
              "  <thead>\n",
              "    <tr style=\"text-align: right;\">\n",
              "      <th></th>\n",
              "      <th>Username</th>\n",
              "      <th>Email</th>\n",
              "    </tr>\n",
              "  </thead>\n",
              "  <tbody>\n",
              "    <tr>\n",
              "      <th>Husan</th>\n",
              "      <td>Jalilov</td>\n",
              "      <td>husan@gmil.com</td>\n",
              "    </tr>\n",
              "    <tr>\n",
              "      <th>Lazizaxon</th>\n",
              "      <td>Anvarova</td>\n",
              "      <td>laziza@gmail.com</td>\n",
              "    </tr>\n",
              "    <tr>\n",
              "      <th>Shox</th>\n",
              "      <td>Burxonov</td>\n",
              "      <td>shox@gmil.com</td>\n",
              "    </tr>\n",
              "  </tbody>\n",
              "</table>\n",
              "</div>"
            ],
            "text/plain": [
              "           Username             Email\n",
              "Husan       Jalilov    husan@gmil.com\n",
              "Lazizaxon  Anvarova  laziza@gmail.com\n",
              "Shox       Burxonov     shox@gmil.com"
            ]
          },
          "metadata": {},
          "execution_count": 48
        }
      ]
    },
    {
      "cell_type": "code",
      "metadata": {
        "id": "EoVCUK2-PdEa"
      },
      "source": [
        ""
      ],
      "execution_count": null,
      "outputs": []
    }
  ]
}