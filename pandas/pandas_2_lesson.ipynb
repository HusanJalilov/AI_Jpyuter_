{
  "nbformat": 4,
  "nbformat_minor": 0,
  "metadata": {
    "colab": {
      "name": "pandas 2 lesson.ipynb",
      "provenance": [],
      "authorship_tag": "ABX9TyMmLit6E0j25rXtG9EOVgNo",
      "include_colab_link": true
    },
    "kernelspec": {
      "name": "python3",
      "display_name": "Python 3"
    },
    "language_info": {
      "name": "python"
    }
  },
  "cells": [
    {
      "cell_type": "markdown",
      "metadata": {
        "id": "view-in-github",
        "colab_type": "text"
      },
      "source": [
        "<a href=\"https://colab.research.google.com/github/HusanJalilov/AI_Jpyuter_/blob/main/pandas/pandas_2_lesson.ipynb\" target=\"_parent\"><img src=\"https://colab.research.google.com/assets/colab-badge.svg\" alt=\"Open In Colab\"/></a>"
      ]
    },
    {
      "cell_type": "code",
      "metadata": {
        "id": "GZWJlxp5qpDY"
      },
      "source": [
        "import pandas as pd\n",
        "from pandas import Series"
      ],
      "execution_count": 1,
      "outputs": []
    },
    {
      "cell_type": "code",
      "metadata": {
        "id": "u_9FhDmPq5vP"
      },
      "source": [
        "abj={'Malibu':'Qora','Jentra':'mokri','BMW':'qora','Nexia':'Oq','Damas':'Qaymoq','Jiguli':'Metalika'}"
      ],
      "execution_count": 11,
      "outputs": []
    },
    {
      "cell_type": "code",
      "metadata": {
        "colab": {
          "base_uri": "https://localhost:8080/"
        },
        "id": "G0c7lxz8rKI6",
        "outputId": "2409c7c5-348b-4d31-b938-069083f6ab8a"
      },
      "source": [
        "obj=Series(abj)\n",
        "obj"
      ],
      "execution_count": 12,
      "outputs": [
        {
          "output_type": "execute_result",
          "data": {
            "text/plain": [
              "Malibu        Qora\n",
              "Jentra       mokri\n",
              "BMW           qora\n",
              "Nexia           Oq\n",
              "Damas       Qaymoq\n",
              "Jiguli    Metalika\n",
              "dtype: object"
            ]
          },
          "metadata": {},
          "execution_count": 12
        }
      ]
    },
    {
      "cell_type": "code",
      "metadata": {
        "colab": {
          "base_uri": "https://localhost:8080/"
        },
        "id": "AzxH2POJrRCI",
        "outputId": "f47bc2b8-835c-4ace-c281-ec5a116e001e"
      },
      "source": [
        "type(obj)"
      ],
      "execution_count": 5,
      "outputs": [
        {
          "output_type": "execute_result",
          "data": {
            "text/plain": [
              "pandas.core.series.Series"
            ]
          },
          "metadata": {},
          "execution_count": 5
        }
      ]
    },
    {
      "cell_type": "code",
      "metadata": {
        "colab": {
          "base_uri": "https://localhost:8080/"
        },
        "id": "3IbZS6S7rWTu",
        "outputId": "396f095e-cccf-4ddb-e008-0e58f7d3971e"
      },
      "source": [
        "'Malibu' in obj"
      ],
      "execution_count": 7,
      "outputs": [
        {
          "output_type": "execute_result",
          "data": {
            "text/plain": [
              "True"
            ]
          },
          "metadata": {},
          "execution_count": 7
        }
      ]
    },
    {
      "cell_type": "code",
      "metadata": {
        "colab": {
          "base_uri": "https://localhost:8080/"
        },
        "id": "1iV5zjBArjbj",
        "outputId": "cbb18617-6dde-498e-e26c-a2eea7408382"
      },
      "source": [
        "'Nexia' in obj"
      ],
      "execution_count": 8,
      "outputs": [
        {
          "output_type": "execute_result",
          "data": {
            "text/plain": [
              "False"
            ]
          },
          "metadata": {},
          "execution_count": 8
        }
      ]
    },
    {
      "cell_type": "code",
      "metadata": {
        "colab": {
          "base_uri": "https://localhost:8080/",
          "height": 35
        },
        "id": "pnuuMAq6rn9k",
        "outputId": "681dfc61-bcfb-44c3-a91c-4d57d65c4588"
      },
      "source": [
        "obj['Jentra']"
      ],
      "execution_count": 10,
      "outputs": [
        {
          "output_type": "execute_result",
          "data": {
            "application/vnd.google.colaboratory.intrinsic+json": {
              "type": "string"
            },
            "text/plain": [
              "'mokri'"
            ]
          },
          "metadata": {},
          "execution_count": 10
        }
      ]
    },
    {
      "cell_type": "code",
      "metadata": {
        "colab": {
          "base_uri": "https://localhost:8080/"
        },
        "id": "Y_1VAzW2rtNV",
        "outputId": "db7f73bb-7126-4678-a36f-d62bb61f3e25"
      },
      "source": [
        "abj"
      ],
      "execution_count": 20,
      "outputs": [
        {
          "output_type": "execute_result",
          "data": {
            "text/plain": [
              "{'BMW': 'qora',\n",
              " 'Damas': 'Qaymoq',\n",
              " 'Jentra': 'mokri',\n",
              " 'Jiguli': 'Metalika',\n",
              " 'Malibu': 'Qora',\n",
              " 'Nexia': 'Oq'}"
            ]
          },
          "metadata": {},
          "execution_count": 20
        }
      ]
    },
    {
      "cell_type": "code",
      "metadata": {
        "id": "3U4_ZyNYskVX"
      },
      "source": [
        "marka={'Jiguli','Damas','Nexia','Malibu','BMW','POyezd'}"
      ],
      "execution_count": 21,
      "outputs": []
    },
    {
      "cell_type": "code",
      "metadata": {
        "colab": {
          "base_uri": "https://localhost:8080/"
        },
        "id": "Q7facJvdszK4",
        "outputId": "5936fdaf-bdf8-4ce7-9aae-758542492915"
      },
      "source": [
        "obj1=Series(abj, index=marka)\n",
        "obj1"
      ],
      "execution_count": 22,
      "outputs": [
        {
          "output_type": "execute_result",
          "data": {
            "text/plain": [
              "Malibu        Qora\n",
              "Nexia           Oq\n",
              "Jiguli    Metalika\n",
              "Damas       Qaymoq\n",
              "BMW           qora\n",
              "POyezd         NaN\n",
              "dtype: object"
            ]
          },
          "metadata": {},
          "execution_count": 22
        }
      ]
    },
    {
      "cell_type": "code",
      "metadata": {
        "id": "5gs8H3_us9ev"
      },
      "source": [
        ""
      ],
      "execution_count": null,
      "outputs": []
    }
  ]
}