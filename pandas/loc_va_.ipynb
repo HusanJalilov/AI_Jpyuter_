{
  "nbformat": 4,
  "nbformat_minor": 0,
  "metadata": {
    "colab": {
      "name": "loc va .ipynb",
      "provenance": [],
      "authorship_tag": "ABX9TyPwomAu6MeQjVX9qHa5/z9W",
      "include_colab_link": true
    },
    "kernelspec": {
      "name": "python3",
      "display_name": "Python 3"
    },
    "language_info": {
      "name": "python"
    }
  },
  "cells": [
    {
      "cell_type": "markdown",
      "metadata": {
        "id": "view-in-github",
        "colab_type": "text"
      },
      "source": [
        "<a href=\"https://colab.research.google.com/github/HusanJalilov/AI_Jpyuter_/blob/main/pandas/loc_va_.ipynb\" target=\"_parent\"><img src=\"https://colab.research.google.com/assets/colab-badge.svg\" alt=\"Open In Colab\"/></a>"
      ]
    },
    {
      "cell_type": "code",
      "execution_count": 21,
      "metadata": {
        "id": "RBnrv1F3RrJA"
      },
      "outputs": [],
      "source": [
        "import pandas as pd\n",
        "import numpy as np"
      ]
    },
    {
      "cell_type": "code",
      "source": [
        ""
      ],
      "metadata": {
        "id": "_l3j3gLtZghf"
      },
      "execution_count": null,
      "outputs": []
    },
    {
      "cell_type": "markdown",
      "source": [
        ".iloc, .loc, .at, .iat \n",
        "yuqoridagi funksiyalar bilan tanishib chiqasiz\n"
      ],
      "metadata": {
        "id": "Yggzx9YoZh6S"
      }
    },
    {
      "cell_type": "code",
      "source": [
        "uz={2018:31.3,2019:32.3,2020:33.2,2021:35}\n",
        "rus={2018:102.3,2019:103.3,2020:104.2,2021:105}\n",
        "itl={2018:51.3,2019:52.3,2020:54.2,2021:56}\n",
        "kg={2018:72.3,2019:74,2020:76,2021:80}\n",
        "ger={2018:29.3,2019:22.3,2020:34.2,2021:67}\n",
        "df=pd.DataFrame(\n",
        "    {\n",
        "        'Uzbekistan':uz,\n",
        "     'Russia':rus,\n",
        "     'Italiya':itl,\n",
        "     'Kazakistan':kg,\n",
        "     'Germaniya':ger\n",
        "    }\n",
        ")"
      ],
      "metadata": {
        "id": "109ZkHwjR3LJ"
      },
      "execution_count": 22,
      "outputs": []
    },
    {
      "cell_type": "code",
      "source": [
        "df"
      ],
      "metadata": {
        "colab": {
          "base_uri": "https://localhost:8080/",
          "height": 174
        },
        "id": "ReKYFJK2R-nE",
        "outputId": "1aa0e10c-7ff0-4a63-d25d-37fbc7e27e34"
      },
      "execution_count": 23,
      "outputs": [
        {
          "output_type": "execute_result",
          "data": {
            "text/html": [
              "<div>\n",
              "<style scoped>\n",
              "    .dataframe tbody tr th:only-of-type {\n",
              "        vertical-align: middle;\n",
              "    }\n",
              "\n",
              "    .dataframe tbody tr th {\n",
              "        vertical-align: top;\n",
              "    }\n",
              "\n",
              "    .dataframe thead th {\n",
              "        text-align: right;\n",
              "    }\n",
              "</style>\n",
              "<table border=\"1\" class=\"dataframe\">\n",
              "  <thead>\n",
              "    <tr style=\"text-align: right;\">\n",
              "      <th></th>\n",
              "      <th>Uzbekistan</th>\n",
              "      <th>Russia</th>\n",
              "      <th>Italiya</th>\n",
              "      <th>Kazakistan</th>\n",
              "      <th>Germaniya</th>\n",
              "    </tr>\n",
              "  </thead>\n",
              "  <tbody>\n",
              "    <tr>\n",
              "      <th>2018</th>\n",
              "      <td>31.3</td>\n",
              "      <td>102.3</td>\n",
              "      <td>51.3</td>\n",
              "      <td>72.3</td>\n",
              "      <td>29.3</td>\n",
              "    </tr>\n",
              "    <tr>\n",
              "      <th>2019</th>\n",
              "      <td>32.3</td>\n",
              "      <td>103.3</td>\n",
              "      <td>52.3</td>\n",
              "      <td>74.0</td>\n",
              "      <td>22.3</td>\n",
              "    </tr>\n",
              "    <tr>\n",
              "      <th>2020</th>\n",
              "      <td>33.2</td>\n",
              "      <td>104.2</td>\n",
              "      <td>54.2</td>\n",
              "      <td>76.0</td>\n",
              "      <td>34.2</td>\n",
              "    </tr>\n",
              "    <tr>\n",
              "      <th>2021</th>\n",
              "      <td>35.0</td>\n",
              "      <td>105.0</td>\n",
              "      <td>56.0</td>\n",
              "      <td>80.0</td>\n",
              "      <td>67.0</td>\n",
              "    </tr>\n",
              "  </tbody>\n",
              "</table>\n",
              "</div>"
            ],
            "text/plain": [
              "      Uzbekistan  Russia  Italiya  Kazakistan  Germaniya\n",
              "2018        31.3   102.3     51.3        72.3       29.3\n",
              "2019        32.3   103.3     52.3        74.0       22.3\n",
              "2020        33.2   104.2     54.2        76.0       34.2\n",
              "2021        35.0   105.0     56.0        80.0       67.0"
            ]
          },
          "metadata": {},
          "execution_count": 23
        }
      ]
    },
    {
      "cell_type": "code",
      "source": [
        "df.loc[[2018]]"
      ],
      "metadata": {
        "colab": {
          "base_uri": "https://localhost:8080/",
          "height": 81
        },
        "id": "YnoRbs56R_lz",
        "outputId": "fc094122-2123-413c-d3fd-5bce4162e742"
      },
      "execution_count": 24,
      "outputs": [
        {
          "output_type": "execute_result",
          "data": {
            "text/html": [
              "<div>\n",
              "<style scoped>\n",
              "    .dataframe tbody tr th:only-of-type {\n",
              "        vertical-align: middle;\n",
              "    }\n",
              "\n",
              "    .dataframe tbody tr th {\n",
              "        vertical-align: top;\n",
              "    }\n",
              "\n",
              "    .dataframe thead th {\n",
              "        text-align: right;\n",
              "    }\n",
              "</style>\n",
              "<table border=\"1\" class=\"dataframe\">\n",
              "  <thead>\n",
              "    <tr style=\"text-align: right;\">\n",
              "      <th></th>\n",
              "      <th>Uzbekistan</th>\n",
              "      <th>Russia</th>\n",
              "      <th>Italiya</th>\n",
              "      <th>Kazakistan</th>\n",
              "      <th>Germaniya</th>\n",
              "    </tr>\n",
              "  </thead>\n",
              "  <tbody>\n",
              "    <tr>\n",
              "      <th>2018</th>\n",
              "      <td>31.3</td>\n",
              "      <td>102.3</td>\n",
              "      <td>51.3</td>\n",
              "      <td>72.3</td>\n",
              "      <td>29.3</td>\n",
              "    </tr>\n",
              "  </tbody>\n",
              "</table>\n",
              "</div>"
            ],
            "text/plain": [
              "      Uzbekistan  Russia  Italiya  Kazakistan  Germaniya\n",
              "2018        31.3   102.3     51.3        72.3       29.3"
            ]
          },
          "metadata": {},
          "execution_count": 24
        }
      ]
    },
    {
      "cell_type": "code",
      "source": [
        "s=df.loc[2018]"
      ],
      "metadata": {
        "id": "3l2um06VSEmO"
      },
      "execution_count": 25,
      "outputs": []
    },
    {
      "cell_type": "code",
      "source": [
        "type(s)"
      ],
      "metadata": {
        "colab": {
          "base_uri": "https://localhost:8080/"
        },
        "id": "pnFoBe5iSQxb",
        "outputId": "c7e8fc6f-7c06-420b-b0ea-cc578a92b450"
      },
      "execution_count": 26,
      "outputs": [
        {
          "output_type": "execute_result",
          "data": {
            "text/plain": [
              "pandas.core.series.Series"
            ]
          },
          "metadata": {},
          "execution_count": 26
        }
      ]
    },
    {
      "cell_type": "code",
      "source": [
        "df.loc[[2018,2021],['Uzbekistan','Germaniya']]"
      ],
      "metadata": {
        "colab": {
          "base_uri": "https://localhost:8080/",
          "height": 112
        },
        "id": "1XDv3V4xSXVI",
        "outputId": "f1eebf35-89f5-4c55-ec39-f46920167649"
      },
      "execution_count": 27,
      "outputs": [
        {
          "output_type": "execute_result",
          "data": {
            "text/html": [
              "<div>\n",
              "<style scoped>\n",
              "    .dataframe tbody tr th:only-of-type {\n",
              "        vertical-align: middle;\n",
              "    }\n",
              "\n",
              "    .dataframe tbody tr th {\n",
              "        vertical-align: top;\n",
              "    }\n",
              "\n",
              "    .dataframe thead th {\n",
              "        text-align: right;\n",
              "    }\n",
              "</style>\n",
              "<table border=\"1\" class=\"dataframe\">\n",
              "  <thead>\n",
              "    <tr style=\"text-align: right;\">\n",
              "      <th></th>\n",
              "      <th>Uzbekistan</th>\n",
              "      <th>Germaniya</th>\n",
              "    </tr>\n",
              "  </thead>\n",
              "  <tbody>\n",
              "    <tr>\n",
              "      <th>2018</th>\n",
              "      <td>31.3</td>\n",
              "      <td>29.3</td>\n",
              "    </tr>\n",
              "    <tr>\n",
              "      <th>2021</th>\n",
              "      <td>35.0</td>\n",
              "      <td>67.0</td>\n",
              "    </tr>\n",
              "  </tbody>\n",
              "</table>\n",
              "</div>"
            ],
            "text/plain": [
              "      Uzbekistan  Germaniya\n",
              "2018        31.3       29.3\n",
              "2021        35.0       67.0"
            ]
          },
          "metadata": {},
          "execution_count": 27
        }
      ]
    },
    {
      "cell_type": "code",
      "source": [
        "df"
      ],
      "metadata": {
        "colab": {
          "base_uri": "https://localhost:8080/",
          "height": 174
        },
        "id": "G_gu52JYSgr3",
        "outputId": "eaae0424-e6b1-4549-9caf-a1859ee30656"
      },
      "execution_count": 29,
      "outputs": [
        {
          "output_type": "execute_result",
          "data": {
            "text/html": [
              "<div>\n",
              "<style scoped>\n",
              "    .dataframe tbody tr th:only-of-type {\n",
              "        vertical-align: middle;\n",
              "    }\n",
              "\n",
              "    .dataframe tbody tr th {\n",
              "        vertical-align: top;\n",
              "    }\n",
              "\n",
              "    .dataframe thead th {\n",
              "        text-align: right;\n",
              "    }\n",
              "</style>\n",
              "<table border=\"1\" class=\"dataframe\">\n",
              "  <thead>\n",
              "    <tr style=\"text-align: right;\">\n",
              "      <th></th>\n",
              "      <th>Uzbekistan</th>\n",
              "      <th>Russia</th>\n",
              "      <th>Italiya</th>\n",
              "      <th>Kazakistan</th>\n",
              "      <th>Germaniya</th>\n",
              "    </tr>\n",
              "  </thead>\n",
              "  <tbody>\n",
              "    <tr>\n",
              "      <th>2018</th>\n",
              "      <td>31.3</td>\n",
              "      <td>102.3</td>\n",
              "      <td>51.3</td>\n",
              "      <td>72.3</td>\n",
              "      <td>29.3</td>\n",
              "    </tr>\n",
              "    <tr>\n",
              "      <th>2019</th>\n",
              "      <td>32.3</td>\n",
              "      <td>103.3</td>\n",
              "      <td>52.3</td>\n",
              "      <td>74.0</td>\n",
              "      <td>22.3</td>\n",
              "    </tr>\n",
              "    <tr>\n",
              "      <th>2020</th>\n",
              "      <td>33.2</td>\n",
              "      <td>104.2</td>\n",
              "      <td>54.2</td>\n",
              "      <td>76.0</td>\n",
              "      <td>34.2</td>\n",
              "    </tr>\n",
              "    <tr>\n",
              "      <th>2021</th>\n",
              "      <td>35.0</td>\n",
              "      <td>105.0</td>\n",
              "      <td>56.0</td>\n",
              "      <td>80.0</td>\n",
              "      <td>67.0</td>\n",
              "    </tr>\n",
              "  </tbody>\n",
              "</table>\n",
              "</div>"
            ],
            "text/plain": [
              "      Uzbekistan  Russia  Italiya  Kazakistan  Germaniya\n",
              "2018        31.3   102.3     51.3        72.3       29.3\n",
              "2019        32.3   103.3     52.3        74.0       22.3\n",
              "2020        33.2   104.2     54.2        76.0       34.2\n",
              "2021        35.0   105.0     56.0        80.0       67.0"
            ]
          },
          "metadata": {},
          "execution_count": 29
        }
      ]
    },
    {
      "cell_type": "code",
      "source": [
        "df.at[2019,'Uzbekistan']"
      ],
      "metadata": {
        "colab": {
          "base_uri": "https://localhost:8080/"
        },
        "id": "tXMjz6-cVC9S",
        "outputId": "204addee-de19-4435-fb4f-94f2c127e2bd"
      },
      "execution_count": 35,
      "outputs": [
        {
          "output_type": "execute_result",
          "data": {
            "text/plain": [
              "32.3"
            ]
          },
          "metadata": {},
          "execution_count": 35
        }
      ]
    },
    {
      "cell_type": "code",
      "source": [
        "df.iat[2,1]"
      ],
      "metadata": {
        "colab": {
          "base_uri": "https://localhost:8080/"
        },
        "id": "KxMOYAIRWlMr",
        "outputId": "90188566-e698-4b74-c937-4e4149b30ca7"
      },
      "execution_count": 39,
      "outputs": [
        {
          "output_type": "execute_result",
          "data": {
            "text/plain": [
              "104.2"
            ]
          },
          "metadata": {},
          "execution_count": 39
        }
      ]
    },
    {
      "cell_type": "code",
      "source": [
        "df.iloc[-1]  #iloc iat lardan index boicha ishlashga ancha qulay hisoblanadi\n"
      ],
      "metadata": {
        "colab": {
          "base_uri": "https://localhost:8080/"
        },
        "id": "b2LBSHwvXHjK",
        "outputId": "7401e572-a625-4a65-987d-78eb96f8947a"
      },
      "execution_count": 40,
      "outputs": [
        {
          "output_type": "execute_result",
          "data": {
            "text/plain": [
              "Uzbekistan     35.0\n",
              "Russia        105.0\n",
              "Italiya        56.0\n",
              "Kazakistan     80.0\n",
              "Germaniya      67.0\n",
              "Name: 2021, dtype: float64"
            ]
          },
          "metadata": {},
          "execution_count": 40
        }
      ]
    },
    {
      "cell_type": "code",
      "source": [
        ""
      ],
      "metadata": {
        "id": "FoaZTdRKYn9p"
      },
      "execution_count": null,
      "outputs": []
    }
  ]
}