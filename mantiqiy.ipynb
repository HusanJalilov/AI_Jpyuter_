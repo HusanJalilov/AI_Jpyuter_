{
  "nbformat": 4,
  "nbformat_minor": 0,
  "metadata": {
    "colab": {
      "name": "mantiqiy.ipynb",
      "provenance": [],
      "authorship_tag": "ABX9TyMFFlal6LT03Vp6/cj3oMEx",
      "include_colab_link": true
    },
    "kernelspec": {
      "name": "python3",
      "display_name": "Python 3"
    },
    "language_info": {
      "name": "python"
    }
  },
  "cells": [
    {
      "cell_type": "markdown",
      "metadata": {
        "id": "view-in-github",
        "colab_type": "text"
      },
      "source": [
        "<a href=\"https://colab.research.google.com/github/HusanJalilov/AI_Jpyuter_/blob/main/mantiqiy.ipynb\" target=\"_parent\"><img src=\"https://colab.research.google.com/assets/colab-badge.svg\" alt=\"Open In Colab\"/></a>"
      ]
    },
    {
      "cell_type": "code",
      "metadata": {
        "id": "JvPNrmkCAYLv"
      },
      "source": [
        "import numpy as np\n",
        "arr=np.random.randn(5,4)\n"
      ],
      "execution_count": 1,
      "outputs": []
    },
    {
      "cell_type": "code",
      "metadata": {
        "colab": {
          "base_uri": "https://localhost:8080/"
        },
        "id": "MaE7CWFsAuqi",
        "outputId": "8731881c-e5ec-41ed-a1d7-610ea46c809b"
      },
      "source": [
        "arr"
      ],
      "execution_count": 2,
      "outputs": [
        {
          "output_type": "execute_result",
          "data": {
            "text/plain": [
              "array([[ 0.2045939 , -0.47962897, -1.1253354 ,  0.66412698],\n",
              "       [-0.82113113,  0.55811484, -2.9171583 , -1.41101156],\n",
              "       [-1.14693552, -0.91680454, -1.50200344, -0.02960823],\n",
              "       [ 0.50282793,  0.47249982, -0.26261411,  0.12024192],\n",
              "       [ 0.98368047,  1.02410151, -1.51590198,  0.45758891]])"
            ]
          },
          "metadata": {},
          "execution_count": 2
        }
      ]
    },
    {
      "cell_type": "code",
      "metadata": {
        "colab": {
          "base_uri": "https://localhost:8080/"
        },
        "id": "Tlo65ifnAvxW",
        "outputId": "dd668cd6-1944-46f9-9115-58a108a60de2"
      },
      "source": [
        "arr.sum()"
      ],
      "execution_count": 3,
      "outputs": [
        {
          "output_type": "execute_result",
          "data": {
            "text/plain": [
              "-7.140356893725236"
            ]
          },
          "metadata": {},
          "execution_count": 3
        }
      ]
    },
    {
      "cell_type": "code",
      "metadata": {
        "id": "iZx2aCe-A11e"
      },
      "source": [
        "arr=np.sum(arr)"
      ],
      "execution_count": 5,
      "outputs": []
    },
    {
      "cell_type": "code",
      "metadata": {
        "colab": {
          "base_uri": "https://localhost:8080/"
        },
        "id": "egg6xh-pA78x",
        "outputId": "9051e3d2-dca0-4161-fdf2-42804cfc4979"
      },
      "source": [
        "arr"
      ],
      "execution_count": 6,
      "outputs": [
        {
          "output_type": "execute_result",
          "data": {
            "text/plain": [
              "-7.140356893725236"
            ]
          },
          "metadata": {},
          "execution_count": 6
        }
      ]
    },
    {
      "cell_type": "code",
      "metadata": {
        "id": "dV8qEWaYA8-0"
      },
      "source": [
        "data=np.arange(6)\n",
        "data=np.mean(data)"
      ],
      "execution_count": 10,
      "outputs": []
    },
    {
      "cell_type": "code",
      "metadata": {
        "colab": {
          "base_uri": "https://localhost:8080/"
        },
        "id": "l0EQ0zFRBFJE",
        "outputId": "f3aeb93e-a781-4507-8615-3a62bef7afe8"
      },
      "source": [
        "data"
      ],
      "execution_count": 11,
      "outputs": [
        {
          "output_type": "execute_result",
          "data": {
            "text/plain": [
              "2.5"
            ]
          },
          "metadata": {},
          "execution_count": 11
        }
      ]
    },
    {
      "cell_type": "code",
      "metadata": {
        "colab": {
          "base_uri": "https://localhost:8080/"
        },
        "id": "qB3_wfM6BiJX",
        "outputId": "da43e92b-e5c7-4c5e-f148-d58f2b6cb816"
      },
      "source": [
        "data\n"
      ],
      "execution_count": 12,
      "outputs": [
        {
          "output_type": "execute_result",
          "data": {
            "text/plain": [
              "2.5"
            ]
          },
          "metadata": {},
          "execution_count": 12
        }
      ]
    },
    {
      "cell_type": "code",
      "metadata": {
        "id": "t32YXn2dCZW6"
      },
      "source": [
        "sum=np.arange(5)"
      ],
      "execution_count": 13,
      "outputs": []
    },
    {
      "cell_type": "code",
      "metadata": {
        "colab": {
          "base_uri": "https://localhost:8080/"
        },
        "id": "tJBvhYOlD6EE",
        "outputId": "d3800190-62b5-404c-f24f-af2bc5ff4467"
      },
      "source": [
        "sum"
      ],
      "execution_count": 14,
      "outputs": [
        {
          "output_type": "execute_result",
          "data": {
            "text/plain": [
              "array([0, 1, 2, 3, 4])"
            ]
          },
          "metadata": {},
          "execution_count": 14
        }
      ]
    },
    {
      "cell_type": "code",
      "metadata": {
        "colab": {
          "base_uri": "https://localhost:8080/"
        },
        "id": "0q7RS6R6D6rW",
        "outputId": "409fe2cd-7e64-4ac7-cb60-19503726ac24"
      },
      "source": [
        "sum.cumsum()"
      ],
      "execution_count": 15,
      "outputs": [
        {
          "output_type": "execute_result",
          "data": {
            "text/plain": [
              "array([ 0,  1,  3,  6, 10])"
            ]
          },
          "metadata": {},
          "execution_count": 15
        }
      ]
    },
    {
      "cell_type": "code",
      "metadata": {
        "id": "luiX2sPoD-04"
      },
      "source": [
        ""
      ],
      "execution_count": null,
      "outputs": []
    }
  ]
}