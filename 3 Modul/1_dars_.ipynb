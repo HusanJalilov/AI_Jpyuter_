{
  "nbformat": 4,
  "nbformat_minor": 0,
  "metadata": {
    "colab": {
      "name": "1 dars .ipynb",
      "provenance": [],
      "mount_file_id": "124D1dTPUfKL2kI_nzmVWS9AxYkOMBRyc",
      "authorship_tag": "ABX9TyNF4cajZDKawNSfuIuxIHmE",
      "include_colab_link": true
    },
    "kernelspec": {
      "name": "python3",
      "display_name": "Python 3"
    },
    "language_info": {
      "name": "python"
    }
  },
  "cells": [
    {
      "cell_type": "markdown",
      "metadata": {
        "id": "view-in-github",
        "colab_type": "text"
      },
      "source": [
        "<a href=\"https://colab.research.google.com/github/HusanJalilov/AI_Jpyuter_/blob/main/3%20Modul/1_dars_.ipynb\" target=\"_parent\"><img src=\"https://colab.research.google.com/assets/colab-badge.svg\" alt=\"Open In Colab\"/></a>"
      ]
    },
    {
      "cell_type": "code",
      "execution_count": 2,
      "metadata": {
        "id": "Ono8KnnOFOzk"
      },
      "outputs": [],
      "source": [
        "import pandas as pd\n",
        "import numpy as np\n"
      ]
    },
    {
      "cell_type": "code",
      "source": [
        "!git colne https://github.com/HusanJalilov/HusanJalilov.github.io\n"
      ],
      "metadata": {
        "colab": {
          "base_uri": "https://localhost:8080/"
        },
        "id": "HSO0-d7JFoEU",
        "outputId": "d49ea340-6568-4690-84ff-7552815e2ade"
      },
      "execution_count": 3,
      "outputs": [
        {
          "output_type": "stream",
          "name": "stdout",
          "text": [
            "git: 'colne' is not a git command. See 'git --help'.\n",
            "\n",
            "The most similar command is\n",
            "\tclone\n"
          ]
        }
      ]
    },
    {
      "cell_type": "code",
      "source": [
        "!git clone https://github.com/HusanJalilov/HusanJalilov.github.io"
      ],
      "metadata": {
        "colab": {
          "base_uri": "https://localhost:8080/"
        },
        "id": "fVzuMK7wLNoc",
        "outputId": "0e8eae87-ea0e-4551-e87f-bc4d1a125fc1"
      },
      "execution_count": 4,
      "outputs": [
        {
          "output_type": "stream",
          "name": "stdout",
          "text": [
            "Cloning into 'HusanJalilov.github.io'...\n",
            "remote: Enumerating objects: 43, done.\u001b[K\n",
            "remote: Counting objects: 100% (43/43), done.\u001b[K\n",
            "remote: Compressing objects: 100% (39/39), done.\u001b[K\n",
            "remote: Total 43 (delta 5), reused 0 (delta 0), pack-reused 0\u001b[K\n",
            "Unpacking objects: 100% (43/43), done.\n"
          ]
        }
      ]
    },
    {
      "cell_type": "code",
      "source": [
        "!wgit https://github.com/HusanJalilov/HusanJalilov.github.io/blob/main/directions.txt"
      ],
      "metadata": {
        "colab": {
          "base_uri": "https://localhost:8080/"
        },
        "id": "c16y9l9zLS5I",
        "outputId": "2308723d-7d7c-4ffd-c8ca-9259ef33ece1"
      },
      "execution_count": 5,
      "outputs": [
        {
          "output_type": "stream",
          "name": "stdout",
          "text": [
            "/bin/bash: wgit: command not found\n"
          ]
        }
      ]
    },
    {
      "cell_type": "code",
      "source": [
        "!wget https://github.com/HusanJalilov/HusanJalilov.github.io/blob/main/directions.txt"
      ],
      "metadata": {
        "colab": {
          "base_uri": "https://localhost:8080/"
        },
        "id": "iCQn37mAL6Qg",
        "outputId": "bc797d7a-7e64-4b9a-e1b4-5286d4507452"
      },
      "execution_count": 6,
      "outputs": [
        {
          "output_type": "stream",
          "name": "stdout",
          "text": [
            "--2021-12-25 06:03:30--  https://github.com/HusanJalilov/HusanJalilov.github.io/blob/main/directions.txt\n",
            "Resolving github.com (github.com)... 140.82.113.4\n",
            "Connecting to github.com (github.com)|140.82.113.4|:443... connected.\n",
            "HTTP request sent, awaiting response... 200 OK\n",
            "Length: unspecified [text/html]\n",
            "Saving to: ‘directions.txt’\n",
            "\n",
            "directions.txt          [ <=>                ] 171.92K  --.-KB/s    in 0.08s   \n",
            "\n",
            "2021-12-25 06:03:31 (2.14 MB/s) - ‘directions.txt’ saved [176042]\n",
            "\n"
          ]
        }
      ]
    },
    {
      "cell_type": "code",
      "source": [
        ""
      ],
      "metadata": {
        "id": "SDCQdyTjL-Xg"
      },
      "execution_count": null,
      "outputs": []
    }
  ]
}