{
  "nbformat": 4,
  "nbformat_minor": 0,
  "metadata": {
    "colab": {
      "name": "oxirgi bo'lim.ipynb",
      "provenance": [],
      "authorship_tag": "ABX9TyP1HQ31lYoFdzpMjfidcgb3",
      "include_colab_link": true
    },
    "kernelspec": {
      "name": "python3",
      "display_name": "Python 3"
    },
    "language_info": {
      "name": "python"
    }
  },
  "cells": [
    {
      "cell_type": "markdown",
      "metadata": {
        "id": "view-in-github",
        "colab_type": "text"
      },
      "source": [
        "<a href=\"https://colab.research.google.com/github/HusanJalilov/AI_Jpyuter_/blob/main/oxirgi_bo'lim.ipynb\" target=\"_parent\"><img src=\"https://colab.research.google.com/assets/colab-badge.svg\" alt=\"Open In Colab\"/></a>"
      ]
    },
    {
      "cell_type": "code",
      "metadata": {
        "id": "Y73N90CCLpCo"
      },
      "source": [
        "import numpy as np\n",
        "name=np.array(['husan','shagzod','sarvar','husan','jasur'])\n",
        "son=np.array([3,5,4,6,5,5,7,9,3,65])\n"
      ],
      "execution_count": 1,
      "outputs": []
    },
    {
      "cell_type": "code",
      "metadata": {
        "colab": {
          "base_uri": "https://localhost:8080/"
        },
        "id": "po6dpssJMD_H",
        "outputId": "03b385ca-cded-4904-98a1-f950087a763c"
      },
      "source": [
        "np.unique(name)"
      ],
      "execution_count": 2,
      "outputs": [
        {
          "output_type": "execute_result",
          "data": {
            "text/plain": [
              "array(['husan', 'jasur', 'sarvar', 'shagzod'], dtype='<U7')"
            ]
          },
          "metadata": {},
          "execution_count": 2
        }
      ]
    },
    {
      "cell_type": "code",
      "metadata": {
        "colab": {
          "base_uri": "https://localhost:8080/"
        },
        "id": "NEaqDOGTMNyM",
        "outputId": "00389911-176f-4e57-8082-bdbc30426800"
      },
      "source": [
        "np.unique(son)"
      ],
      "execution_count": 3,
      "outputs": [
        {
          "output_type": "execute_result",
          "data": {
            "text/plain": [
              "array([ 3,  4,  5,  6,  7,  9, 65])"
            ]
          },
          "metadata": {},
          "execution_count": 3
        }
      ]
    },
    {
      "cell_type": "code",
      "metadata": {
        "id": "tanAQXY1MRzp"
      },
      "source": [
        "arr1=np.array([6,7,8,3,5,3,0,44,66])\n",
        "arr2=np.array([55,66,7,3,43,5,2,7])"
      ],
      "execution_count": 4,
      "outputs": []
    },
    {
      "cell_type": "code",
      "metadata": {
        "colab": {
          "base_uri": "https://localhost:8080/"
        },
        "id": "WlsKpbg0Pfvg",
        "outputId": "854b4bee-4c6e-4a36-9c8c-f80f71aebadd"
      },
      "source": [
        "np.in1d(arr1,arr2)"
      ],
      "execution_count": 5,
      "outputs": [
        {
          "output_type": "execute_result",
          "data": {
            "text/plain": [
              "array([False,  True, False,  True,  True,  True, False, False,  True])"
            ]
          },
          "metadata": {},
          "execution_count": 5
        }
      ]
    },
    {
      "cell_type": "code",
      "metadata": {
        "id": "yc5yr0wPPkC_"
      },
      "source": [
        "name1=np.array(['husan','laylo','ali','vali','suhrob'])\n",
        "name2=np.array(['laylo','jasur','werdana','gardash'])"
      ],
      "execution_count": 6,
      "outputs": []
    },
    {
      "cell_type": "code",
      "metadata": {
        "colab": {
          "base_uri": "https://localhost:8080/"
        },
        "id": "QLMrZo0jQAic",
        "outputId": "0df4a8fc-1637-4d30-a30c-d7127d4fa029"
      },
      "source": [
        "np.setdiff1d(name1,name2)"
      ],
      "execution_count": 7,
      "outputs": [
        {
          "output_type": "execute_result",
          "data": {
            "text/plain": [
              "array(['ali', 'husan', 'suhrob', 'vali'], dtype='<U6')"
            ]
          },
          "metadata": {},
          "execution_count": 7
        }
      ]
    },
    {
      "cell_type": "code",
      "metadata": {
        "id": "DuMHN-bkQFPm"
      },
      "source": [
        ""
      ],
      "execution_count": null,
      "outputs": []
    }
  ]
}