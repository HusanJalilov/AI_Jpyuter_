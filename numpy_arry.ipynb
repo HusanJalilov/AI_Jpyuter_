{
  "nbformat": 4,
  "nbformat_minor": 0,
  "metadata": {
    "colab": {
      "name": "numpy_arry.ipynb",
      "provenance": [],
      "collapsed_sections": [],
      "authorship_tag": "ABX9TyOEDPVnkdsaS8KYoSM3kcM0",
      "include_colab_link": true
    },
    "kernelspec": {
      "name": "python3",
      "display_name": "Python 3"
    },
    "language_info": {
      "name": "python"
    },
    "accelerator": "GPU"
  },
  "cells": [
    {
      "cell_type": "markdown",
      "metadata": {
        "id": "view-in-github",
        "colab_type": "text"
      },
      "source": [
        "<a href=\"https://colab.research.google.com/github/HusanJalilov/AI_Jpyuter_/blob/main/numpy_arry.ipynb\" target=\"_parent\"><img src=\"https://colab.research.google.com/assets/colab-badge.svg\" alt=\"Open In Colab\"/></a>"
      ]
    },
    {
      "cell_type": "code",
      "metadata": {
        "id": "mzQY2vAA4FRl"
      },
      "source": [
        "import numpy as np"
      ],
      "execution_count": 1,
      "outputs": []
    },
    {
      "cell_type": "code",
      "metadata": {
        "id": "38pjV2724z58"
      },
      "source": [
        "data1=[2,3,8,9.3]  # list yaratish\n",
        "arr1=np.array(data1)  #  array1 yaratish"
      ],
      "execution_count": 2,
      "outputs": []
    },
    {
      "cell_type": "code",
      "metadata": {
        "colab": {
          "base_uri": "https://localhost:8080/"
        },
        "id": "FsxzPDiR5K_s",
        "outputId": "1f678169-ffd3-4d72-9fa3-bf6da60d7a3b"
      },
      "source": [
        "arr1"
      ],
      "execution_count": 3,
      "outputs": [
        {
          "output_type": "execute_result",
          "data": {
            "text/plain": [
              "array([2. , 3. , 8. , 9.3])"
            ]
          },
          "metadata": {},
          "execution_count": 3
        }
      ]
    },
    {
      "cell_type": "code",
      "metadata": {
        "colab": {
          "base_uri": "https://localhost:8080/"
        },
        "id": "M36hhY6N56J4",
        "outputId": "932d8882-d0c0-4367-a503-b6e23c3dbc85"
      },
      "source": [
        "data1"
      ],
      "execution_count": 4,
      "outputs": [
        {
          "output_type": "execute_result",
          "data": {
            "text/plain": [
              "[2, 3, 8, 9.3]"
            ]
          },
          "metadata": {},
          "execution_count": 4
        }
      ]
    },
    {
      "cell_type": "code",
      "metadata": {
        "id": "lR0H1gx858gO"
      },
      "source": [
        "data2=(2,8,3,3.4)  #  Tuple yaratildi\n",
        "arr2=np.array(data2)  #  Array2 yaratildi\n"
      ],
      "execution_count": 5,
      "outputs": []
    },
    {
      "cell_type": "code",
      "metadata": {
        "colab": {
          "base_uri": "https://localhost:8080/"
        },
        "id": "TVqCs4I-6Z2W",
        "outputId": "78b0b05f-57ea-4dd3-be02-e766d9e59b86"
      },
      "source": [
        "arr2"
      ],
      "execution_count": 6,
      "outputs": [
        {
          "output_type": "execute_result",
          "data": {
            "text/plain": [
              "array([2. , 8. , 3. , 3.4])"
            ]
          },
          "metadata": {},
          "execution_count": 6
        }
      ]
    },
    {
      "cell_type": "code",
      "metadata": {
        "colab": {
          "base_uri": "https://localhost:8080/"
        },
        "id": "EXVjOkw36cO2",
        "outputId": "58db7171-17a0-4d40-b965-e3302d4c1666"
      },
      "source": [
        "data2"
      ],
      "execution_count": 7,
      "outputs": [
        {
          "output_type": "execute_result",
          "data": {
            "text/plain": [
              "(2, 8, 3, 3.4)"
            ]
          },
          "metadata": {},
          "execution_count": 7
        }
      ]
    },
    {
      "cell_type": "code",
      "metadata": {
        "colab": {
          "base_uri": "https://localhost:8080/"
        },
        "id": "q_kFwwO-6ea9",
        "outputId": "259c8629-79b2-4505-9007-072516fd3251"
      },
      "source": [
        "arr2.ndim  #  Array2 ning massiv o'lchami "
      ],
      "execution_count": 8,
      "outputs": [
        {
          "output_type": "execute_result",
          "data": {
            "text/plain": [
              "1"
            ]
          },
          "metadata": {},
          "execution_count": 8
        }
      ]
    },
    {
      "cell_type": "code",
      "metadata": {
        "colab": {
          "base_uri": "https://localhost:8080/"
        },
        "id": "Hf0Mv44o6nq8",
        "outputId": "b6bcad85-d4f1-46ee-f5f2-bc6ae0565248"
      },
      "source": [
        "arr1.ndim  # Array1 ning massiv o'lchami"
      ],
      "execution_count": 9,
      "outputs": [
        {
          "output_type": "execute_result",
          "data": {
            "text/plain": [
              "1"
            ]
          },
          "metadata": {},
          "execution_count": 9
        }
      ]
    },
    {
      "cell_type": "code",
      "metadata": {
        "id": "hcLX0c7D62Br"
      },
      "source": [
        ""
      ],
      "execution_count": null,
      "outputs": []
    },
    {
      "cell_type": "markdown",
      "metadata": {
        "id": "CmoafClO63Km"
      },
      "source": [
        "Endi ikki o'lchovli massiv yaratamiz:  "
      ]
    },
    {
      "cell_type": "code",
      "metadata": {
        "id": "LuqRWOz968me"
      },
      "source": [
        "data3=[[2,4,5],[7,8,99]]  # 2 o'chovli list\n",
        "arr3=np.array(data3)  # 2 o'chovli MASSIV"
      ],
      "execution_count": 10,
      "outputs": []
    },
    {
      "cell_type": "code",
      "metadata": {
        "colab": {
          "base_uri": "https://localhost:8080/"
        },
        "id": "-FWHXYH67Nu4",
        "outputId": "edd09fb4-fa91-4e93-848f-19b5953fbb37"
      },
      "source": [
        "arr3.ndim #  arr3 ning massiv o'lchami"
      ],
      "execution_count": 12,
      "outputs": [
        {
          "output_type": "execute_result",
          "data": {
            "text/plain": [
              "2"
            ]
          },
          "metadata": {},
          "execution_count": 12
        }
      ]
    },
    {
      "cell_type": "markdown",
      "metadata": {
        "id": "TopSr6I_FXL5"
      },
      "source": [
        "- Shape va size metodlari\n"
      ]
    },
    {
      "cell_type": "code",
      "metadata": {
        "colab": {
          "base_uri": "https://localhost:8080/"
        },
        "id": "gq0WDT-L8Qz1",
        "outputId": "939e37c6-acec-41b9-ce38-78633e432ddd"
      },
      "source": [
        "arr3.shape  #  qator va ustunlar sonini kursatadi\n"
      ],
      "execution_count": 22,
      "outputs": [
        {
          "output_type": "execute_result",
          "data": {
            "text/plain": [
              "(2, 3)"
            ]
          },
          "metadata": {},
          "execution_count": 22
        }
      ]
    },
    {
      "cell_type": "code",
      "metadata": {
        "colab": {
          "base_uri": "https://localhost:8080/"
        },
        "id": "5_Hzgr4-FuRW",
        "outputId": "75f352ab-3576-4a03-f047-a1bf17191938"
      },
      "source": [
        "arr3.size  #  arr3 ning elementlari soni"
      ],
      "execution_count": 23,
      "outputs": [
        {
          "output_type": "execute_result",
          "data": {
            "text/plain": [
              "6"
            ]
          },
          "metadata": {},
          "execution_count": 23
        }
      ]
    },
    {
      "cell_type": "code",
      "metadata": {
        "id": "Ng3PsWd_F2WM"
      },
      "source": [
        " "
      ],
      "execution_count": null,
      "outputs": []
    },
    {
      "cell_type": "markdown",
      "metadata": {
        "id": "SBmnZ9XmGE1j"
      },
      "source": [
        "**  N o'lchamli massivlar yaratishning boshqa usullari**\n",
        "\n",
        "-zeros  va ones funksiyalari yordamida massivlar yaratish"
      ]
    },
    {
      "cell_type": "code",
      "metadata": {
        "colab": {
          "base_uri": "https://localhost:8080/"
        },
        "id": "llGXg2vVGM6P",
        "outputId": "9cd7ae2b-53e4-4528-88d9-46a0710748f0"
      },
      "source": [
        "arr4=np.zeros(shape=(3,4))  # barcha elementlari 0 dan iborat massiv\n",
        "arr4"
      ],
      "execution_count": 24,
      "outputs": [
        {
          "output_type": "execute_result",
          "data": {
            "text/plain": [
              "array([[0., 0., 0., 0.],\n",
              "       [0., 0., 0., 0.],\n",
              "       [0., 0., 0., 0.]])"
            ]
          },
          "metadata": {},
          "execution_count": 24
        }
      ]
    },
    {
      "cell_type": "code",
      "metadata": {
        "colab": {
          "base_uri": "https://localhost:8080/"
        },
        "id": "wn9xqgw5HcQx",
        "outputId": "4b315459-c190-430c-ab8e-fcb8149d3644"
      },
      "source": [
        "arr5=np.ones(shape=(2,6)) # barcha elementlari 1 dan ibora massiv\n",
        "arr5"
      ],
      "execution_count": 28,
      "outputs": [
        {
          "output_type": "execute_result",
          "data": {
            "text/plain": [
              "array([[1., 1., 1., 1., 1., 1.],\n",
              "       [1., 1., 1., 1., 1., 1.]])"
            ]
          },
          "metadata": {},
          "execution_count": 28
        }
      ]
    },
    {
      "cell_type": "code",
      "metadata": {
        "colab": {
          "base_uri": "https://localhost:8080/"
        },
        "id": "NEWozJnqHoAu",
        "outputId": "848ed2cb-64d6-429b-bd8c-14b55dfd2a87"
      },
      "source": [
        "arr6=np.arange(4,18,3) # 4 dan 18 gacha saonlarni 3 qadam bilan massivga joylab beradi\n",
        "arr6"
      ],
      "execution_count": 29,
      "outputs": [
        {
          "output_type": "execute_result",
          "data": {
            "text/plain": [
              "array([ 4,  7, 10, 13, 16])"
            ]
          },
          "metadata": {},
          "execution_count": 29
        }
      ]
    },
    {
      "cell_type": "code",
      "metadata": {
        "id": "DJJzCXgpIk5Y"
      },
      "source": [
        ""
      ],
      "execution_count": null,
      "outputs": []
    }
  ]
}